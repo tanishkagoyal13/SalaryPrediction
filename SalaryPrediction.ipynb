{
  "nbformat": 4,
  "nbformat_minor": 0,
  "metadata": {
    "colab": {
      "provenance": []
    },
    "kernelspec": {
      "name": "python3",
      "display_name": "Python 3"
    },
    "language_info": {
      "name": "python"
    }
  },
  "cells": [
    {
      "cell_type": "code",
      "execution_count": null,
      "metadata": {
        "id": "A27btkZSJC49",
        "collapsed": true
      },
      "outputs": [],
      "source": [
        "# https://au-syd.ml.cloud.ibm.com/ml/v4/deployments/7a9441ef-95f0-4e36-b98e-b77ca7883232/predictions?version=2021-05-01\n"
      ]
    },
    {
      "cell_type": "code",
      "source": [
        "import requests\n",
        "import json\n",
        "\n",
        "# IBM Cloud API key\n",
        "API_KEY = \"Hj8JIC0j4TqQQXr7vPgMzE0nframm-vwA5kZlP57x8_U\"\n",
        "\n",
        "# Step 1: Get access token\n",
        "token_response = requests.post(\n",
        "    'https://iam.cloud.ibm.com/identity/token',\n",
        "    data={\"apikey\": API_KEY, \"grant_type\": 'urn:ibm:params:oauth:grant-type:apikey'}\n",
        ")\n",
        "mltoken = token_response.json()[\"access_token\"]\n",
        "header = {'Content-Type': 'application/json', 'Authorization': 'Bearer ' + mltoken}\n",
        "\n",
        "# Step 2: Define payload for scoring\n",
        "payload_scoring = {\n",
        "  \"input_data\": [\n",
        "    {\n",
        "      \"fields\": [\n",
        "        \"ID\",\n",
        "        \"education_level\",\n",
        "        \"years_experience\",\n",
        "        \"job_title\",\n",
        "        \"industry\",\n",
        "        \"location\",\n",
        "        \"company_size\",\n",
        "        \"certifications\",\n",
        "        \"age\",\n",
        "        \"working_hours\",\n",
        "        \"crucial_code\"\n",
        "      ],\n",
        "      \"values\": [\n",
        "        [1, \"High School\", 12, \"Data Scientist\", \"Education\", \"New York\", \"Medium\", 1, 48, 52, \"XEV156\"],\n",
        "        [2, \"PhD\", 17, \"Data Scientist\", \"IT\", \"New York\", \"\", 0, 39, 34, \"\"]\n",
        "      ]\n",
        "    }\n",
        "  ]\n",
        "}\n",
        "# Step 3: Send scoring request\n",
        "response_scoring = requests.post(\n",
        "    'https://au-syd.ml.cloud.ibm.com/ml/v4/deployments/7a9441ef-95f0-4e36-b98e-b77ca7883232/predictions?version=2021-05-01',\n",
        "json=payload_scoring,\n",
        "    headers=header\n",
        ")\n",
        "\n",
        "print(\"Scoring response\")\n",
        "try:\n",
        "    print(response_scoring.json())\n",
        "except ValueError:\n",
        "    print(response_scoring.text)\n",
        "except Exception as e:\n",
        "    print(f\"An unexpected error occurred: {e}\")"
      ],
      "metadata": {
        "colab": {
          "base_uri": "https://localhost:8080/"
        },
        "id": "KGZ64ik3L50j",
        "outputId": "3dfdb462-ce10-4a3e-8d41-7e77052d47f4"
      },
      "execution_count": null,
      "outputs": [
        {
          "output_type": "stream",
          "name": "stdout",
          "text": [
            "Scoring response\n",
            "{'predictions': [{'fields': ['prediction'], 'values': [[85625.0078125], [104517.0390625]]}]}\n"
          ]
        }
      ]
    },
    {
      "cell_type": "code",
      "source": [],
      "metadata": {
        "id": "vMeO44GHSgu2"
      },
      "execution_count": null,
      "outputs": []
    }
  ]
}